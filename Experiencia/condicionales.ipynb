{
 "cells": [
  {
   "cell_type": "code",
   "execution_count": 2,
   "id": "94aa3a16",
   "metadata": {},
   "outputs": [
    {
     "name": "stdout",
     "output_type": "stream",
     "text": [
      "12\n",
      "NO SE CUMPLE CON LA CANTIDAD DE CUIDADORES SEGUN EL NUMERO DE LEONES\n",
      "False\n"
     ]
    }
   ],
   "source": [
    "import math \n",
    "\n",
    "leones_zoo = 23 \n",
    "cuidador_leones = 10\n",
    "\n",
    "cuidadores_requeridos = math.ceil(leones_zoo/2)\n",
    "\n",
    "print(cuidadores_requeridos)\n",
    "\n",
    "cumple_norma = cuidador_leones >= cuidadores_requeridos\n",
    "if cumple_norma:\n",
    "    print('CUMPLE CONLA CANTIDAD DE CUIDADORES SEGUN EL NUMERO DE LEONES')\n",
    "else:\n",
    "    print('NO SE CUMPLE CON LA CANTIDAD DE CUIDADORES SEGUN EL NUMERO DE LEONES')\n",
    "\n",
    "print(cumple_norma)"
   ]
  },
  {
   "cell_type": "markdown",
   "id": "4fb44a5e",
   "metadata": {},
   "source": [
    "* Imagine que tiene una banera cuya capacidad es de 500lts\n",
    "* puede llenar a un ritmo de 200 lts por hora\n",
    "* pero tenga en cuenta que al llegar a su capacidad maxima el agua se desborda\n",
    "*\n",
    "*"
   ]
  }
 ],
 "metadata": {
  "kernelspec": {
   "display_name": "Python 3",
   "language": "python",
   "name": "python3"
  },
  "language_info": {
   "codemirror_mode": {
    "name": "ipython",
    "version": 3
   },
   "file_extension": ".py",
   "mimetype": "text/x-python",
   "name": "python",
   "nbconvert_exporter": "python",
   "pygments_lexer": "ipython3",
   "version": "3.13.4"
  }
 },
 "nbformat": 4,
 "nbformat_minor": 5
}
