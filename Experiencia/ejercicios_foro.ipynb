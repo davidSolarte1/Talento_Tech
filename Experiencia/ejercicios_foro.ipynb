{
 "cells": [
  {
   "cell_type": "markdown",
   "id": "f67f5ddb",
   "metadata": {},
   "source": [
    "### ***EJERCICIOS FORO***\n",
    "\n",
    "## ***1.***\n",
    "\n",
    "Una persona desea saber si puede conducir cierto tipo de vehículo. Las reglas son:\n",
    "\n",
    "- Debe tener licencia de conducir vigente (la variable `tiene_licencia` es True).\n",
    "- Si la persona tiene menos de 21 años (la variable `edad`), solo puede conducir motocicleta (la variable `vehiculo` es igual a `\"motocicleta\"`).\n",
    "- Si la persona tiene 21 años o más, puede conducir motocicleta o automóvil (la variable `vehiculo` es `\"motocicleta\"` o `\"automovil\"`).\n",
    "\n",
    "Crea un programa en Python que utilice condicionales anidados para determinar si la persona puede conducir el tipo de vehículo elegido y muestre un mensaje apropiado.\n"
   ]
  },
  {
   "cell_type": "code",
   "execution_count": null,
   "id": "ae86fc6b",
   "metadata": {},
   "outputs": [],
   "source": [
    "tiene_licencia =True\n",
    "edad = 20\n",
    "vehiculo = \"automovil\"\n",
    "#vehiculo = \"motocicleta\"\n",
    "\n",
    "if tiene_licencia:\n",
    "    if edad >= 21:\n",
    "        if vehiculo== \"motocicleta\" or vehiculo==\"automovil\":\n",
    "            print(f\"Usted puede manejar {vehiculo}\")\n",
    "    else:\n",
    "        if vehiculo == \"automovil\":\n",
    "            print(f\"Usted es menor de 21 anios, no puede manejar {vehiculo}, solo motocicleta\")\n",
    "        elif vehiculo == \"motocicleta\":\n",
    "            print(f\"Usted es menor de 21 anios, por lo tanto puede manejar motocicleta\")\n",
    "\n",
    "else:\n",
    "    print(\"usted no tiene licencia\")"
   ]
  },
  {
   "cell_type": "markdown",
   "id": "b4418c10",
   "metadata": {},
   "source": [
    "### ***2.***\n",
    "\n",
    "Una tienda ofrece un descuento especial bajo estas condiciones:\n",
    "\n",
    "- El cliente debe tener membresía activa (la variable `membresia_activa` es True).\n",
    "- Si la edad del cliente (`edad`) es menor de 18, el descuento es del 10%.\n",
    "- Si la edad está entre 18 y 60 (inclusive), el descuento es del 20%.\n",
    "- Si la edad es mayor de 60, el descuento es del 30%.\n",
    "\n",
    "Crea un programa en Python que utilice condicionales anidados para determinar el descuento que recibe un cliente y muestre el porcentaje de descuento o un mensaje si no tiene derecho al descuento."
   ]
  },
  {
   "cell_type": "code",
   "execution_count": null,
   "id": "f3f8c2ce",
   "metadata": {},
   "outputs": [],
   "source": [
    "membresia_activa = True\n",
    "edad = 18\n",
    "if membresia_activa:\n",
    "    if edad < 18:\n",
    "        print('Usted tiene el descuento del 10%')\n",
    "    else:\n",
    "        if edad >= 18 and edad <= 60:\n",
    "            print('Usted tiene el descuento del 20%')\n",
    "        else:\n",
    "            if edad > 60:\n",
    "                print('Usted tiene el descuento del 30%')\n",
    "else:\n",
    "    print('No cuenta con membresia, no puede acceder a los descuentos')"
   ]
  },
  {
   "cell_type": "markdown",
   "id": "d16649a0",
   "metadata": {},
   "source": [
    "### ***3.***\n",
    "\n",
    "Determinar si un número ingresado por teclado es primo"
   ]
  },
  {
   "cell_type": "code",
   "execution_count": null,
   "id": "4a2fb77a",
   "metadata": {},
   "outputs": [],
   "source": [
    "num = int(input(\"Digite un numero\"))\n",
    "if num > 1:\n",
    "    es_primo = True\n",
    "    for i in range(2, num):\n",
    "        if num % i == 0:\n",
    "            es_primo = False\n",
    "            break\n",
    "    if es_primo:\n",
    "        print(f\"{num} es un número primo.\")\n",
    "    else:\n",
    "        print(f\"{num} no es un número primo.\")\n",
    "else:\n",
    "    print(\"El número debe ser mayor que 1.\")"
   ]
  }
 ],
 "metadata": {
  "language_info": {
   "name": "python"
  }
 },
 "nbformat": 4,
 "nbformat_minor": 5
}
