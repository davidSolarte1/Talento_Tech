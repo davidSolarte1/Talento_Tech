{
 "cells": [
  {
   "cell_type": "code",
   "execution_count": null,
   "id": "22d706a5",
   "metadata": {},
   "outputs": [],
   "source": [
    "# TAREA (terminar siguiendo el ejemplo anterior):\n",
    "import math\n",
    "n1 = float(input(\"Ingresa el 1er numero: \"))\n",
    "n2 = float(input(\"Ingresa el 2do numero: \"))\n",
    "\n",
    "potencia = lambda base,exponente: math.pow(base,exponente)# base**exponente\n",
    "resultado= potencia(n1,n2)\n",
    "print(f\"La potencia es: {resultado}\")\n",
    "raiz = lambda radicando: math.sqrt(radicando) # raiz del radicando\n",
    "resultado = raiz(n1)\n",
    "print(f\"la raiz cuadrada de {n1} es: {resultado}\")\n",
    "logaritmo = lambda arg,base: math.log(arg , base)\n",
    "resultado= logaritmo(n1,n2)\n",
    "print(f\"El logaritmo de {n1} en base {n2} es: {resultado}\")"
   ]
  },
  {
   "cell_type": "code",
   "execution_count": null,
   "id": "ba97065f",
   "metadata": {},
   "outputs": [],
   "source": [
    "# TAREA (terminar siguiendo el ejemplo anterior):\n",
    "import math\n",
    "n1 = float(input(\"Ingresa un numero: \"))\n",
    "seno = lambda angulo_radianes: math.sin(angulo_radianes)\n",
    "resultado= seno(n1)\n",
    "print(f\"El seno del angulo {n1} es: {resultado}\")\n",
    "coseno = lambda angulo_radianes: math.cos(angulo_radianes)\n",
    "resultado= coseno(n1)\n",
    "print(f\"El coseno del angulo {n1} es: {resultado}\")\n",
    "tangente = lambda angulo_radianes: math.tan(angulo_radianes)\n",
    "resultado= tangente(n1)\n",
    "print(f\"La tengente del angulo {n1} es: {resultado}\")"
   ]
  }
 ],
 "metadata": {
  "kernelspec": {
   "display_name": "Python 3",
   "language": "python",
   "name": "python3"
  },
  "language_info": {
   "name": "python",
   "version": "3.13.4"
  }
 },
 "nbformat": 4,
 "nbformat_minor": 5
}
