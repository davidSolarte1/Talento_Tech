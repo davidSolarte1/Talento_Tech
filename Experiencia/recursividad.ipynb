{
 "cells": [
  {
   "cell_type": "code",
   "execution_count": 10,
   "id": "261ab6ce",
   "metadata": {},
   "outputs": [
    {
     "name": "stdout",
     "output_type": "stream",
     "text": [
      "0\n",
      "1\n",
      "1\n",
      "2\n",
      "3\n",
      "5\n",
      "8\n",
      "13\n",
      "21\n",
      "34\n",
      "55\n",
      "2584\n",
      "4181\n",
      "6765\n"
     ]
    }
   ],
   "source": [
    "def fibonacci(n): # n debe ser un numero entero positivo incluyendo el cero (numero natural)\n",
    "     if n <= 1:\n",
    "         return n\n",
    "     else:\n",
    "         return fibonacci(n - 1) + fibonacci(n - 2) # aquí se aplica la recursividad pues dentro del mismo bloque de código llamo a la función\n",
    "\n",
    "print(fibonacci(0)) # retorna 0\n",
    "print(fibonacci(1)) # retorna 1\n",
    "print(fibonacci(2)) # retorna la suma de los dos anteriores: 1 + 0 = 1\n",
    "print(fibonacci(3)) # retorna la suma de los dos anteriores: 1 + 1 = 2\n",
    "print(fibonacci(4)) # retorna la suma de los dos anteriores: 3\n",
    "print(fibonacci(5)) # retorna la suma de los dos anteriores: 5\n",
    "print(fibonacci(6)) # retorna la suma de los dos anteriores: 8\n",
    "print(fibonacci(7)) # retorna la suma de los dos anteriores: 13\n",
    "print(fibonacci(8)) # retorna la suma de los dos anteriores: 21\n",
    "print(fibonacci(9)) # retorna la suma de los dos anteriores: 34\n",
    "print(fibonacci(10)) # retorna la suma de los dos anteriores: 55\n",
    "\n",
    "# TAREA: hacer un ciclo while/for hasta 20: fib(n=20) = fib(n=19) + fib(n=18)\n",
    "\n",
    "# debe llegar uno a uno hasta 20:\n",
    "\n",
    "# Para n grandes es muy inficiente\n",
    "#*print(fibonacci(18)) # complete ud!\n",
    "#*print(fibonacci(19)) # complete ud!\n",
    "#*print(fibonacci(20)) # fib(n=20) = fib(n=19) + fib(n=18)\n",
    "\n",
    "\n",
    "# Como la recursividad puede consumir tiempo y memoria, hacerlo solo hasta n=20\n",
    "# Consulta: cómo volver más eficiente las funciones recursivas?\n",
    "\n",
    "print(fibonacci(18)) # retorna la suma de los dos anteriores: 2584\n",
    "print(fibonacci(19)) # retorna la suma de los dos anteriores: 4181\n",
    "print(fibonacci(20)) # retorna la suma de los dos anteriores: 6765\n",
    "# print(fibonacci(45)) # retorna la suma de los dos anteriores: 6765\n",
    "\n",
    "\n"
   ]
  },
  {
   "cell_type": "code",
   "execution_count": 12,
   "id": "3c95fc07",
   "metadata": {},
   "outputs": [
    {
     "name": "stdout",
     "output_type": "stream",
     "text": [
      "fibonacci(0) = 0\n",
      "fibonacci(1) = 1\n",
      "fibonacci(2) = 1\n",
      "fibonacci(3) = 2\n",
      "fibonacci(4) = 3\n",
      "fibonacci(5) = 5\n",
      "fibonacci(6) = 8\n",
      "fibonacci(7) = 13\n",
      "fibonacci(8) = 21\n",
      "fibonacci(9) = 34\n",
      "fibonacci(10) = 55\n",
      "fibonacci(11) = 89\n",
      "fibonacci(12) = 144\n",
      "fibonacci(13) = 233\n",
      "fibonacci(14) = 377\n",
      "fibonacci(15) = 610\n",
      "fibonacci(16) = 987\n",
      "fibonacci(17) = 1597\n",
      "fibonacci(18) = 2584\n",
      "fibonacci(19) = 4181\n",
      "fibonacci(20) = 6765\n"
     ]
    }
   ],
   "source": [
    "def fibonacci(n): # n debe ser un numero entero positivo incluyendo el cero (numero natural)\n",
    "     if n <= 1:\n",
    "         return n\n",
    "     else:\n",
    "         return fibonacci(n - 1) + fibonacci(n - 2)\n",
    "\n",
    "for i in range(21):\n",
    "    print(f\"fibonacci({i}) = {fibonacci(i)}\")"
   ]
  },
  {
   "cell_type": "markdown",
   "id": "d67b4faa",
   "metadata": {},
   "source": [
    "¿Cómo volver más eficiente esta función recursiva?\n",
    "La solución se llama \"memoización\" que es guardar los resultados ya calculados para no repetir cálculos innecesarios, de manera que:\n"
   ]
  },
  {
   "cell_type": "code",
   "execution_count": 13,
   "id": "4fbded14",
   "metadata": {},
   "outputs": [
    {
     "name": "stdout",
     "output_type": "stream",
     "text": [
      "fibonacci(0) = 0\n",
      "fibonacci(1) = 1\n",
      "fibonacci(2) = 1\n",
      "fibonacci(3) = 2\n",
      "fibonacci(4) = 3\n",
      "fibonacci(5) = 5\n",
      "fibonacci(6) = 8\n",
      "fibonacci(7) = 13\n",
      "fibonacci(8) = 21\n",
      "fibonacci(9) = 34\n",
      "fibonacci(10) = 55\n",
      "fibonacci(11) = 89\n",
      "fibonacci(12) = 144\n",
      "fibonacci(13) = 233\n",
      "fibonacci(14) = 377\n",
      "fibonacci(15) = 610\n",
      "fibonacci(16) = 987\n",
      "fibonacci(17) = 1597\n",
      "fibonacci(18) = 2584\n",
      "fibonacci(19) = 4181\n",
      "fibonacci(20) = 6765\n",
      "fibonacci(21) = 10946\n",
      "fibonacci(22) = 17711\n",
      "fibonacci(23) = 28657\n",
      "fibonacci(24) = 46368\n",
      "fibonacci(25) = 75025\n",
      "fibonacci(26) = 121393\n",
      "fibonacci(27) = 196418\n",
      "fibonacci(28) = 317811\n",
      "fibonacci(29) = 514229\n",
      "fibonacci(30) = 832040\n",
      "fibonacci(31) = 1346269\n",
      "fibonacci(32) = 2178309\n",
      "fibonacci(33) = 3524578\n",
      "fibonacci(34) = 5702887\n",
      "fibonacci(35) = 9227465\n",
      "fibonacci(36) = 14930352\n",
      "fibonacci(37) = 24157817\n",
      "fibonacci(38) = 39088169\n",
      "fibonacci(39) = 63245986\n",
      "fibonacci(40) = 102334155\n",
      "fibonacci(41) = 165580141\n",
      "fibonacci(42) = 267914296\n",
      "fibonacci(43) = 433494437\n",
      "fibonacci(44) = 701408733\n",
      "{0: 0, 1: 1, 2: 1, 3: 2, 4: 3, 5: 5, 6: 8, 7: 13, 8: 21, 9: 34, 10: 55, 11: 89, 12: 144, 13: 233, 14: 377, 15: 610, 16: 987, 17: 1597, 18: 2584, 19: 4181, 20: 6765, 21: 10946, 22: 17711, 23: 28657, 24: 46368, 25: 75025, 26: 121393, 27: 196418, 28: 317811, 29: 514229, 30: 832040, 31: 1346269, 32: 2178309, 33: 3524578, 34: 5702887, 35: 9227465, 36: 14930352, 37: 24157817, 38: 39088169, 39: 63245986, 40: 102334155, 41: 165580141, 42: 267914296, 43: 433494437, 44: 701408733}\n"
     ]
    }
   ],
   "source": [
    "memo = {}\n",
    "\n",
    "def fibonacci(n):\n",
    "    if n in memo:\n",
    "        return memo[n]\n",
    "    if n <= 1:\n",
    "        result = n\n",
    "    else:\n",
    "        result = fibonacci(n - 1) + fibonacci(n - 2)\n",
    "    memo[n] = result\n",
    "    return result\n",
    "\n",
    "for i in range(45):\n",
    "    print(f\"fibonacci({i}) = {fibonacci(i)}\")\n",
    "print(memo)"
   ]
  }
 ],
 "metadata": {
  "kernelspec": {
   "display_name": "Python 3",
   "language": "python",
   "name": "python3"
  },
  "language_info": {
   "codemirror_mode": {
    "name": "ipython",
    "version": 3
   },
   "file_extension": ".py",
   "mimetype": "text/x-python",
   "name": "python",
   "nbconvert_exporter": "python",
   "pygments_lexer": "ipython3",
   "version": "3.13.4"
  }
 },
 "nbformat": 4,
 "nbformat_minor": 5
}
