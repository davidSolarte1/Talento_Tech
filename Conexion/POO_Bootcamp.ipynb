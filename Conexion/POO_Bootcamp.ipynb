{
 "cells": [
  {
   "cell_type": "markdown",
   "id": "8627c828",
   "metadata": {
    "id": "8627c828"
   },
   "source": [
    "# Programación Orientada a Objetos (POO) en Python\n",
    "\n",
    "## 1. Introducción a la POO\n",
    "\n",
    "### ¿Qué es la POO?\n",
    "\n",
    "La Programación Orientada a Objetos (POO) es un paradigma de programación basado en el uso de **clases** y **objetos** para organizar el código de forma más modular, reutilizable y mantenible.\n",
    "\n",
    "### Ventajas frente a la programación estructurada\n",
    "\n",
    "- Favorece la reutilización de código.\n",
    "- Permite organizar programas complejos de forma más clara.\n",
    "- Facilita el mantenimiento y la escalabilidad.\n",
    "\n",
    "### Conceptos clave\n",
    "\n",
    "- **Clase**: Es una plantilla o modelo que define las características y comportamientos comunes a un conjunto de objetos.\n",
    "- **Objeto**: Es una instancia concreta de una clase.\n",
    "- **Atributos**: Son las variables que describen las propiedades de un objeto.\n",
    "- **Métodos**: Son funciones definidas dentro de una clase que determinan el comportamiento del objeto.\n"
   ]
  },
  {
   "cell_type": "markdown",
   "id": "93a10465",
   "metadata": {
    "id": "93a10465"
   },
   "source": [
    "## 2. Primer ejemplo básico\n",
    "\n",
    "Vamos a definir una clase sencilla llamada `Persona`, que tendrá algunos atributos y métodos básicos.\n"
   ]
  },
  {
   "cell_type": "code",
   "execution_count": null,
   "id": "23c86462",
   "metadata": {
    "colab": {
     "base_uri": "https://localhost:8080/"
    },
    "executionInfo": {
     "elapsed": 5,
     "status": "ok",
     "timestamp": 1754005957035,
     "user": {
      "displayName": "Edison Arteaga",
      "userId": "05342205215595490167"
     },
     "user_tz": 180
    },
    "id": "23c86462",
    "outputId": "4f33c7fc-da7c-4198-afb5-37e117cc97c2"
   },
   "outputs": [
    {
     "name": "stdout",
     "output_type": "stream",
     "text": [
      "Hola, mi nombre es Ana y tengo 30 años.\n",
      "Hola, mi nombre es Luis y tengo 25 años.\n"
     ]
    }
   ],
   "source": [
    "class Persona:\n",
    "    def __init__(self, nombre, edad):\n",
    "        self.nombre = nombre\n",
    "        self.edad = edad\n",
    "\n",
    "    def saludar(self):\n",
    "        print(f\"Hola, mi nombre es {self.nombre} y tengo {self.edad} años.\")\n",
    "\n",
    "# Crear objetos\n",
    "persona1 = Persona(\"Ana\", 30)\n",
    "persona2 = Persona(\"Luis\", 25)\n",
    "\n",
    "# Usar métodos\n",
    "persona1.saludar()\n",
    "persona2.saludar()"
   ]
  },
  {
   "cell_type": "markdown",
   "id": "debc60bd",
   "metadata": {
    "id": "debc60bd"
   },
   "source": [
    "## 3. Encapsulamiento\n",
    "\n",
    "El encapsulamiento es un principio que consiste en ocultar los detalles internos de un objeto y exponer solo lo necesario.\n",
    "\n",
    "- Los atributos **públicos** pueden ser accedidos directamente.\n",
    "- Los atributos **privados** se definen con doble guion bajo `__` y se acceden mediante métodos especiales (getters y setters).\n"
   ]
  },
  {
   "cell_type": "code",
   "execution_count": null,
   "id": "c2a999f3",
   "metadata": {
    "colab": {
     "base_uri": "https://localhost:8080/"
    },
    "executionInfo": {
     "elapsed": 7,
     "status": "ok",
     "timestamp": 1754006116866,
     "user": {
      "displayName": "Edison Arteaga",
      "userId": "05342205215595490167"
     },
     "user_tz": 180
    },
    "id": "c2a999f3",
    "outputId": "30cbba8b-b4e6-4a18-eac9-8dad93be8f47"
   },
   "outputs": [
    {
     "name": "stdout",
     "output_type": "stream",
     "text": [
      "1000\n",
      "1500\n"
     ]
    }
   ],
   "source": [
    "class Cuenta:\n",
    "    def __init__(self, titular, saldo):\n",
    "        self.titular = titular\n",
    "        self.__saldo = saldo  # atributo privado\n",
    "\n",
    "    def get_saldo(self):\n",
    "        return self.__saldo\n",
    "\n",
    "    def set_saldo(self, nuevo_saldo):\n",
    "        if nuevo_saldo >= 0:\n",
    "            self.__saldo = nuevo_saldo\n",
    "\n",
    "cuenta = Cuenta(\"Carlos\", 1000)\n",
    "print(cuenta.get_saldo())\n",
    "cuenta.set_saldo(1500)\n",
    "print(cuenta.get_saldo())"
   ]
  },
  {
   "cell_type": "markdown",
   "id": "4cee11e7",
   "metadata": {
    "id": "4cee11e7"
   },
   "source": [
    "## 4. Herencia simple\n",
    "\n",
    "La herencia permite que una clase (subclase) herede atributos y métodos de otra clase (superclase).\n",
    "\n",
    "Ejemplo: clase `Animal` como superclase y clase `Perro` como subclase.\n"
   ]
  },
  {
   "cell_type": "code",
   "execution_count": null,
   "id": "0accf95f",
   "metadata": {
    "colab": {
     "base_uri": "https://localhost:8080/"
    },
    "executionInfo": {
     "elapsed": 17,
     "status": "ok",
     "timestamp": 1754006355359,
     "user": {
      "displayName": "Edison Arteaga",
      "userId": "05342205215595490167"
     },
     "user_tz": 180
    },
    "id": "0accf95f",
    "outputId": "fd9c6176-fdba-4596-d7b2-3363b7f81917"
   },
   "outputs": [
    {
     "name": "stdout",
     "output_type": "stream",
     "text": [
      "Max dice: ¡Guau!\n"
     ]
    }
   ],
   "source": [
    "class Animal:\n",
    "    def __init__(self, nombre):\n",
    "        self.nombre = nombre\n",
    "\n",
    "    def hablar(self):\n",
    "        print(\"Este animal hace un sonido.\")\n",
    "\n",
    "class Perro(Animal):\n",
    "    def hablar(self):\n",
    "        print(f\"{self.nombre} dice: ¡Guau!\")\n",
    "\n",
    "mi_perro = Perro(\"Max\")\n",
    "mi_perro.hablar()"
   ]
  },
  {
   "cell_type": "markdown",
   "id": "02561b83",
   "metadata": {
    "id": "02561b83"
   },
   "source": [
    "## 5. Diseño de estructuras básicas\n",
    "\n",
    "Los métodos `__init__` y `__str__` permiten definir la inicialización y la representación en texto de un objeto.\n",
    "\n",
    "También existen dos conceptos clave:\n",
    "- **Composición**: una clase usa otras clases como parte de su estructura.\n",
    "- **Herencia**: una clase hereda de otra.\n"
   ]
  },
  {
   "cell_type": "code",
   "execution_count": null,
   "id": "1b2cf608",
   "metadata": {
    "id": "1b2cf608"
   },
   "outputs": [],
   "source": [
    "class CuentaBancaria:\n",
    "    def __init__(self, titular, saldo=0):\n",
    "        self.titular = titular\n",
    "        self.saldo = saldo\n",
    "\n",
    "    def depositar(self, monto):\n",
    "        self.saldo += monto\n",
    "\n",
    "    def retirar(self, monto):\n",
    "        if monto <= self.saldo:\n",
    "            self.saldo -= monto\n",
    "\n",
    "    def __str__(self):\n",
    "        return f\"Cuenta de {self.titular} con saldo: ${self.saldo}\"\n",
    "\n",
    "cuenta = CuentaBancaria(\"Elena\", 500)\n",
    "cuenta.depositar(300)\n",
    "cuenta.retirar(100)\n",
    "print(cuenta)"
   ]
  },
  {
   "cell_type": "markdown",
   "id": "560b2409",
   "metadata": {
    "id": "560b2409"
   },
   "source": [
    "## 6. Actividades de práctica\n",
    "\n",
    "### Ejercicio 1\n",
    "Define una clase `Rectángulo` con atributos `ancho` y `alto`, y un método que calcule el área.\n",
    "\n",
    "### Ejercicio 2\n",
    "Crea una clase `Empleado` con nombre y salario. Agrega un método que calcule un bono del 10% del salario.\n",
    "\n",
    "### Ejercicio 3\n",
    "Crea una clase `Vehículo` con un método `mover()`. Luego crea una subclase `Bicicleta` que sobrescriba ese método.\n"
   ]
  },
  {
   "cell_type": "code",
   "execution_count": 9,
   "id": "edca4ba3",
   "metadata": {},
   "outputs": [
    {
     "name": "stdout",
     "output_type": "stream",
     "text": [
      "El area del rectangulo es 28 u**2\n"
     ]
    }
   ],
   "source": [
    "class Rectangulo:\n",
    "  def __init__(self, alto, ancho):\n",
    "    self.alto = alto\n",
    "    self.ancho = ancho\n",
    "\n",
    "  def calcular_area(self):\n",
    "    print(f\"El area del rectangulo es {self.ancho * self.alto} u**2\")\n",
    "\n",
    "rectangulo = Rectangulo(7,4)\n",
    "rectangulo.calcular_area()\n",
    "\t\t"
   ]
  },
  {
   "cell_type": "code",
   "execution_count": 8,
   "id": "d12041c1",
   "metadata": {},
   "outputs": [
    {
     "name": "stdout",
     "output_type": "stream",
     "text": [
      "Su bono es de $ 150.0\n"
     ]
    }
   ],
   "source": [
    "class Empleado:\n",
    "  def __init__(self, nombre, salario):\n",
    "    self.nombre = nombre\n",
    "    self.salario = salario\n",
    "  def bono(self):\n",
    "    print(f\"Su bono es de $ {self.salario * 0.1}\")\n",
    "\n",
    "empleado1 = Empleado('Juan', 1500)\n",
    "empleado1.bono()"
   ]
  },
  {
   "cell_type": "code",
   "execution_count": 6,
   "id": "8c6e6aed",
   "metadata": {},
   "outputs": [
    {
     "name": "stdout",
     "output_type": "stream",
     "text": [
      "El vehiculo es una Bicicleta\n"
     ]
    }
   ],
   "source": [
    "class Vehiculo:\n",
    "  def mover(self):\n",
    "    print(\"El vehiculo se mueve\")\n",
    "    \n",
    "class Bicicleta(Vehiculo):\n",
    "  def mover(self):\n",
    "    print(\"El vehiculo es una Bicicleta\")\n",
    "bici = Bicicleta()\n",
    "bici.mover()"
   ]
  }
 ],
 "metadata": {
  "colab": {
   "provenance": [
    {
     "file_id": "1YLiTOWfQjAYFoUiofvZyJeosJCTAPdFd",
     "timestamp": 1754006434101
    }
   ]
  },
  "kernelspec": {
   "display_name": "Python 3",
   "name": "python3"
  },
  "language_info": {
   "codemirror_mode": {
    "name": "ipython",
    "version": 3
   },
   "file_extension": ".py",
   "mimetype": "text/x-python",
   "name": "python",
   "nbconvert_exporter": "python",
   "pygments_lexer": "ipython3",
   "version": "3.13.4"
  }
 },
 "nbformat": 4,
 "nbformat_minor": 5
}
