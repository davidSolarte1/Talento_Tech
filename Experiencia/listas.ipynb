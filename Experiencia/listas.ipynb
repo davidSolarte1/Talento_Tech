{
 "cells": [
  {
   "cell_type": "code",
   "execution_count": 22,
   "id": "3349d932",
   "metadata": {},
   "outputs": [
    {
     "name": "stdout",
     "output_type": "stream",
     "text": [
      "['manzana', 'pera', 'guayaba', 'mango']\n",
      "['manzana', 'pera', 'guayaba', 'mango', 'uva']\n",
      "['manzana', 'melon', 'pera', 'guayaba', 'mango', 'uva']\n",
      "['manzana', 'melon', 'pera', 'mango', 'uva']\n",
      "melon\n",
      "['manzana', 'pera', 'mango', 'uva']\n"
     ]
    }
   ],
   "source": [
    "lista_frutas = [\"manzana\", \"pera\", \"guayaba\", \"mango\"]\n",
    "print(lista_frutas)\n",
    "lista_frutas.append(\"uva\")\n",
    "print(lista_frutas)\n",
    "lista_frutas.insert(1,\"melon\")\n",
    "print(lista_frutas)\n",
    "lista_frutas.remove(\"guayaba\")\n",
    "print(lista_frutas)\n",
    "fruta = lista_frutas[1]\n",
    "lista_frutas.remove(\"melon\")\n",
    "print(fruta)\n",
    "print(lista_frutas)\n",
    "\n"
   ]
  }
 ],
 "metadata": {
  "kernelspec": {
   "display_name": "Python 3",
   "language": "python",
   "name": "python3"
  },
  "language_info": {
   "codemirror_mode": {
    "name": "ipython",
    "version": 3
   },
   "file_extension": ".py",
   "mimetype": "text/x-python",
   "name": "python",
   "nbconvert_exporter": "python",
   "pygments_lexer": "ipython3",
   "version": "3.13.4"
  }
 },
 "nbformat": 4,
 "nbformat_minor": 5
}
