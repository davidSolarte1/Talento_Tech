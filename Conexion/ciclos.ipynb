{
 "cells": [
  {
   "cell_type": "code",
   "execution_count": null,
   "id": "8a37b0b0",
   "metadata": {},
   "outputs": [],
   "source": [
    "'''\n",
    "Evaluación práctica\n",
    "Complete los siguientes ejercicios sin ejemplos previos. Puede usar cualquier tipo de ciclo.\n",
    "Solicite al usuario ingresar 5 nombres y guárdelos en una lista.\n",
    "Muestre cuántos nombres comienzan con la letra \"A\".\n",
    "Cree una simulación de llenado de formulario donde se pide la edad y se valida que sea un número entre 18 y 99. Si no es válido, se repite.\n",
    "'''"
   ]
  },
  {
   "cell_type": "code",
   "execution_count": null,
   "id": "64909fd5",
   "metadata": {},
   "outputs": [
    {
     "name": "stdout",
     "output_type": "stream",
     "text": [
      "['david']\n",
      "['david', 'alewjando']\n",
      "['david', 'alewjando', 'faa']\n",
      "['david', 'alewjando', 'faa', 'andres']\n",
      "['david', 'alewjando', 'faa', 'andres', 'alejos']\n",
      "\n",
      "Cantidad de nombres que comienzan con 'A': 3\n",
      "['david', 'alewjando', 'faa', 'andres', 'alejos']\n"
     ]
    }
   ],
   "source": [
    "1.\n",
    "nombres = []\n",
    "for i in range(5):\n",
    "  nombre = input('Ingrese su nombre:')\n",
    "  nombres.append(nombre)\n",
    "\n",
    "  while True:\n",
    "\n",
    "    edad = int(input('Ingrese su edad'))\n",
    "    if 18 < edad < 99:\n",
    "      break\n",
    "    else:\n",
    "      print('edad no es valid, debe estar entre 18 y 99')\n",
    "\n",
    "contador = 0\n",
    "for nombre in nombres:\n",
    "  if nombre[0] == 'A' or  nombre[0] == 'a':\n",
    "    contador += 1\n",
    "print(nombres)\n",
    "print(f\"\\nCantidad de nombres que comienzan con 'A': {contador}\")"
   ]
  }
 ],
 "metadata": {
  "kernelspec": {
   "display_name": "Python 3",
   "language": "python",
   "name": "python3"
  },
  "language_info": {
   "codemirror_mode": {
    "name": "ipython",
    "version": 3
   },
   "file_extension": ".py",
   "mimetype": "text/x-python",
   "name": "python",
   "nbconvert_exporter": "python",
   "pygments_lexer": "ipython3",
   "version": "3.13.4"
  }
 },
 "nbformat": 4,
 "nbformat_minor": 5
}
