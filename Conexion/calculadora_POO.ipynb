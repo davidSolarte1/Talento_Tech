{
 "cells": [
  {
   "cell_type": "code",
   "execution_count": null,
   "id": "2edcc107",
   "metadata": {},
   "outputs": [],
   "source": [
    "import math\n",
    "\n",
    "class Calculadora:\n",
    "  def __init__(self, opcion, num1, num2):\n",
    "    self.opcion = opcion\n",
    "    self.num1 = num1\n",
    "    self.num\t= num2\n",
    "  \n",
    "\t"
   ]
  }
 ],
 "metadata": {
  "kernelspec": {
   "display_name": "Python 3",
   "language": "python",
   "name": "python3"
  },
  "language_info": {
   "codemirror_mode": {
    "name": "ipython",
    "version": 3
   },
   "file_extension": ".py",
   "mimetype": "text/x-python",
   "name": "python",
   "nbconvert_exporter": "python",
   "pygments_lexer": "ipython3",
   "version": "3.13.4"
  }
 },
 "nbformat": 4,
 "nbformat_minor": 5
}
