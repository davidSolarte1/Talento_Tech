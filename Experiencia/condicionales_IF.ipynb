{
 "cells": [
  {
   "cell_type": "markdown",
   "id": "5c54270b",
   "metadata": {},
   "source": [
    "1. dado un numero entero. Imprima 'positivo' si es mayor a cero, o 'no positivo' en caso contrario"
   ]
  },
  {
   "cell_type": "code",
   "execution_count": 9,
   "id": "5ad03ede",
   "metadata": {},
   "outputs": [
    {
     "name": "stdout",
     "output_type": "stream",
     "text": [
      "EL NUMERO  87  ES POSITIVO\n"
     ]
    }
   ],
   "source": [
    "numero = int(input(\"Digite un numero\"))\n",
    "if numero > 0:\n",
    "    print(\"EL NUMERO \",numero,\" ES POSITIVO\")\n",
    "else:\n",
    "    print(f'EL NUMERO {numero} NO ES POSITIVO')\n"
   ]
  },
  {
   "cell_type": "markdown",
   "id": "2994e238",
   "metadata": {},
   "source": [
    "2. dado un numero, imprime si es par o impar"
   ]
  },
  {
   "cell_type": "code",
   "execution_count": 7,
   "id": "149aa843",
   "metadata": {},
   "outputs": [
    {
     "name": "stdout",
     "output_type": "stream",
     "text": [
      "El numero es par\n"
     ]
    }
   ],
   "source": [
    "numero = int(input(\"Digite un numero\"))\n",
    "\n",
    "if numero % 2 == 0:\n",
    "    print('El numero es par')\n",
    "else:\n",
    "    print('El numero es impar')"
   ]
  },
  {
   "cell_type": "markdown",
   "id": "8abb78e6",
   "metadata": {},
   "source": [
    "3. dado el sueldo de un empleado determinar si esta entre los siguientes rangos\n",
    "\n",
    "* menor a 1.000.000\n",
    "* 1.000.000 - 2.000.000\n",
    "* 2.000.001 - 3.000.000\n",
    "* 3.000.001 - 4.000.000\n",
    "* mayor a 4.000.000\n",
    "e imprimir un mensaje sibre que rango se encuentra\n"
   ]
  },
  {
   "cell_type": "code",
   "execution_count": null,
   "id": "05dfd423",
   "metadata": {},
   "outputs": [],
   "source": [
    "sueldo = 1000000\n",
    "\n",
    "if sueldo < 1000000:\n",
    "    print(\"su sueldo es menor a 1.000.000\")\n",
    "elif sueldo > 1000000 and sueldo <= 2000000:\n",
    "    print(\"su sueldo estra entre  1.000.000 y 2.000.000\")\n",
    "elif sueldo > 2000000 and sueldo <= 3000000:\n",
    "    print(\"su sueldo estra entre  2.000.000 y 3.000.000\")\n",
    "elif sueldo > 3000000 and sueldo <= 4000000:\n",
    "    print(\"su sueldo estra entre  3.000.000 y 4.000.000\")\n",
    "elif sueldo > 4000000:\n",
    "    print(\"su sueldo es mayor a 4.000.000\")\n"
   ]
  },
  {
   "cell_type": "code",
   "execution_count": null,
   "id": "b63f6b12",
   "metadata": {},
   "outputs": [
    {
     "name": "stdout",
     "output_type": "stream",
     "text": [
      "puede ingresar, tiene compania\n"
     ]
    }
   ],
   "source": [
    "tiene_invitacion = True\n",
    "edad = 18\n",
    "acompanado = True\n",
    "\n",
    "if tiene_invitacion:\n",
    "    if edad >=18:\n",
    "        if edad <=21:\n",
    "            if acompanado:\n",
    "                print(\"puede ingresar, tiene compania\")\n",
    "            else:\n",
    "                print(\"no puede ingresar,  no tiene compania\")\n",
    "        else:\n",
    "            print(\"puede ingresar\")\n",
    "    else:\n",
    "        print(\"menor de edad, no puede entrar\")\n",
    "else:\n",
    "    print(\"debe tener una invitacion, no puede ingresar\")\n",
    "     "
   ]
  },
  {
   "cell_type": "markdown",
   "id": "ae1e5ed6",
   "metadata": {},
   "source": [
    "5. \n"
   ]
  },
  {
   "cell_type": "code",
   "execution_count": null,
   "id": "0c6a2a1c",
   "metadata": {},
   "outputs": [],
   "source": [
    "promedio = 85\n",
    "examen_ingles = True\n",
    "edad = 21\n",
    "tiene_carta = True\n",
    "\n",
    "if promedio >= 85:\n",
    "    if examen_ingles:\n",
    "        if edad < 21:\n",
    "            if tiene_carta:\n",
    "                print(\"puede aspirar a la beca\")\n",
    "            else:\n",
    "                print(\"para aspirar a la beca debe tener una carta ya que es menor a 21 anios\")\n",
    "        else:\n",
    "            print(\"cumple con los requisitos - puede aspirar a la beca\")\n",
    "    else:\n",
    "        print(\"no aprobo examen ingles - no puede aspirar a la beca\")\n",
    "else:\n",
    "    print(\"no tiene promedio requerido - no puede aspirar a la beca\")"
   ]
  },
  {
   "cell_type": "markdown",
   "id": "71059f20",
   "metadata": {},
   "source": [
    "6. concierto VIP"
   ]
  },
  {
   "cell_type": "code",
   "execution_count": null,
   "id": "356eee04",
   "metadata": {},
   "outputs": [],
   "source": [
    "tiene_pulsera = True\n",
    "edad = 16\n",
    "autorizacion_padres = True\n",
    "\n",
    "if tiene_pulsera:\n",
    "    if edad >= 16:\n",
    "        if edad <= 18:\n",
    "            if autorizacion_padres:\n",
    "                print(\"CUENTA CON AUTORIZACION, PUEDE INGRESAR A LA ZONA VIP\")\n",
    "            else:\n",
    "                print(\"NO CUENTA CON AUTORIZACION, NO PUEDE INGRESAR A LA ZONA VIP\")\n",
    "        else:\n",
    "            print(\"Ya es mayor, PUEDE INGRESAR A LA ZONA VIP\")\n",
    "    else:\n",
    "        print(\"ESTA POR DEBAJO DE LA EDAD REQUERIDA, NO PUEDE INGRESAR A LA ZONA VIP\")\n",
    "else:\n",
    "    print(\"no tiene pulsera VIP, NO PUEDE INGRESAR A LA ZONA VIP\")\n",
    "\n",
    "\n",
    "\n",
    "\n"
   ]
  },
  {
   "cell_type": "markdown",
   "id": "9de2f9d9",
   "metadata": {},
   "source": [
    "7. biblioteca"
   ]
  },
  {
   "cell_type": "code",
   "execution_count": null,
   "id": "d4b2eab0",
   "metadata": {},
   "outputs": [],
   "source": [
    "es_estudiante = True\n",
    "credencial_vigente = True\n",
    "edad = 17\n",
    "acompanado_por_profesor = True\n",
    "\n",
    "if es_estudiante:\n",
    "    if credencial_vigente:\n",
    "        if edad < 20:\n",
    "            if acompanado_por_profesor:\n",
    "                print(\"Puede ingresar fuera de horario\")\n",
    "            else:\n",
    "                print(\"NO Puede ingresar fuera de horario\")\n",
    "        else:\n",
    "            print(\"Puede ingresar fuera de horario\")\n",
    "    else:\n",
    "        print(\"No puede ingresar, no tiene credencial vigente\")\n",
    "else:\n",
    "    print(\"No puede ingresar, no es estudiante\")\n",
    "\n"
   ]
  },
  {
   "cell_type": "markdown",
   "id": "da0d26d1",
   "metadata": {},
   "source": [
    "8. "
   ]
  },
  {
   "cell_type": "code",
   "execution_count": null,
   "id": "3dd51d2f",
   "metadata": {},
   "outputs": [],
   "source": [
    "a = float(input('ingrese numero'))\n",
    "b = float(input('ingrese numero'))\n",
    "c = float(input('ingrese numero'))\n",
    "\n",
    "if a==b==c:\n",
    "    print(\"los tres numeros son iguales\")\n",
    "elif (a==b) and a>c:\n",
    "    print(f\"mayor: {a} (repetido)\")\n",
    "    print(f\"medio: {c} \")\n",
    "    print(f\"menor: {c} \")\n",
    "elif (a==c) and a>b:\n",
    "    print(f\"mayor: {a} (repetido)\")\n",
    "    print(f\"medio: {b} \")\n",
    "    print(f\"menor: {b} \")\n",
    "elif (b==c) and b>a:\n",
    "    print(f\"mayor: {b} (repetido)\")\n",
    "    print(f\"medio: {a} \")\n",
    "    print(f\"menor: {a} \")\n",
    "elif (a==b) and a<c:\n",
    "    print(f\"mayor: {c} \")\n",
    "    print(f\"medio: {a} (repetido)\")\n",
    "    print(f\"menor: {a} (repetido)\")\n",
    "elif (a==c) and a<b:\n",
    "    print(f\"mayor: {b} \")\n",
    "    print(f\"medio: {a} (repetido)\")\n",
    "    print(f\"menor: {a} (repetido)\")\n",
    "elif (b==c) and b<a:\n",
    "    print(f\"mayor: {a} \")\n",
    "    print(f\"medio: {b} (repetido)\")\n",
    "    print(f\"menor: {b} (repetido)\")\n",
    "else:\n",
    "    if a> b and a>c:\n",
    "        mayor = a\n",
    "        if b> c:\n",
    "            medio=b\n",
    "            menor = c\n",
    "        else:\n",
    "            medio=c\n",
    "            menor = b\n",
    "    elif b> a and b>c :\n",
    "        mayor = b\n",
    "        if a> c:\n",
    "            medio=a\n",
    "            menor = c\n",
    "        else:\n",
    "            medio=c\n",
    "            menor = a\n",
    "    else:\n",
    "        mayor = b\n",
    "        if a> b:\n",
    "            medio=a\n",
    "            menor = b\n",
    "        else:\n",
    "            medio=b\n",
    "            menor = a\n",
    "\n",
    "    print(f\"mayor: {mayor}\")\n",
    "    print(f\"medio: {medio}\")\n",
    "    print(f\"menor: {menor}\")\n",
    "\n"
   ]
  },
  {
   "cell_type": "markdown",
   "id": "f93f8da5",
   "metadata": {},
   "source": [
    "### ***EJERCICIOS FORO***\n",
    "\n",
    "## ***1.***\n",
    "\n",
    "Una persona desea saber si puede conducir cierto tipo de vehículo. Las reglas son:\n",
    "\n",
    "- Debe tener licencia de conducir vigente (la variable `tiene_licencia` es True).\n",
    "- Si la persona tiene menos de 21 años (la variable `edad`), solo puede conducir motocicleta (la variable `vehiculo` es igual a `\"motocicleta\"`).\n",
    "- Si la persona tiene 21 años o más, puede conducir motocicleta o automóvil (la variable `vehiculo` es `\"motocicleta\"` o `\"automovil\"`).\n",
    "\n",
    "Crea un programa en Python que utilice condicionales anidados para determinar si la persona puede conducir el tipo de vehículo elegido y muestre un mensaje apropiado.\n"
   ]
  },
  {
   "cell_type": "code",
   "execution_count": null,
   "id": "7a8dadf3",
   "metadata": {},
   "outputs": [
    {
     "name": "stdout",
     "output_type": "stream",
     "text": [
      "Usted es menor de 21 anios, solo puede manejar automovil, solo motocicleta\n"
     ]
    }
   ],
   "source": [
    "tiene_licencia =True\n",
    "edad = 20\n",
    "vehiculo = \"automovil\"\n",
    "#vehiculo = \"motocicleta\"\n",
    "\n",
    "if tiene_licencia:\n",
    "    if edad >= 21:\n",
    "        if vehiculo== \"motocicleta\" or vehiculo==\"automovil\":\n",
    "            print(f\"Usted puede manejar {vehiculo}\")\n",
    "    else:\n",
    "        if vehiculo == \"automovil\":\n",
    "            print(f\"Usted es menor de 21 anios, no puede manejar {vehiculo}, solo motocicleta\")\n",
    "        elif vehiculo == \"motocicleta\":\n",
    "            print(f\"Usted es menor de 21 anios, por lo tanto puede manejar motocicleta\")\n",
    "\n",
    "else:\n",
    "    print(\"usted no tiene licencia\")"
   ]
  },
  {
   "cell_type": "markdown",
   "id": "31550116",
   "metadata": {},
   "source": [
    "### ***2.***\n",
    "\n",
    "Una tienda ofrece un descuento especial bajo estas condiciones:\n",
    "\n",
    "- El cliente debe tener membresía activa (la variable `membresia_activa` es True).\n",
    "- Si la edad del cliente (`edad`) es menor de 18, el descuento es del 10%.\n",
    "- Si la edad está entre 18 y 60 (inclusive), el descuento es del 20%.\n",
    "- Si la edad es mayor de 60, el descuento es del 30%.\n",
    "\n",
    "Crea un programa en Python que utilice condicionales anidados para determinar el descuento que recibe un cliente y muestre el porcentaje de descuento o un mensaje si no tiene derecho al descuento."
   ]
  },
  {
   "cell_type": "code",
   "execution_count": null,
   "id": "ba1b6d9e",
   "metadata": {},
   "outputs": [],
   "source": [
    "membresia_activa = True\n",
    "edad = 18\n",
    "if membresia_activa:\n",
    "    if edad < 18:\n",
    "        print('Usted tiene el descuento del 10%')\n",
    "    else:\n",
    "        if edad >= 18 and edad <= 60:\n",
    "            print('Usted tiene el descuento del 20%')\n",
    "        else:\n",
    "            if edad > 60:\n",
    "                print('Usted tiene el descuento del 30%')\n",
    "else:\n",
    "    print('No cuenta con membresia, no puede acceder a los descuentos')"
   ]
  },
  {
   "cell_type": "markdown",
   "id": "8f73e442",
   "metadata": {},
   "source": [
    "### ***3.***\n",
    "\n",
    "Determinar si un número ingresado por teclado es primo"
   ]
  },
  {
   "cell_type": "code",
   "execution_count": 5,
   "id": "7ae7c4eb",
   "metadata": {},
   "outputs": [
    {
     "name": "stdout",
     "output_type": "stream",
     "text": [
      "11 es un número primo.\n"
     ]
    }
   ],
   "source": [
    "num = int(input(\"Digite un numero\"))\n",
    "if num > 1:\n",
    "    es_primo = True\n",
    "    for i in range(2, num):\n",
    "        if num % i == 0:\n",
    "            es_primo = False\n",
    "            break\n",
    "    if es_primo:\n",
    "        print(f\"{num} es un número primo.\")\n",
    "    else:\n",
    "        print(f\"{num} no es un número primo.\")\n",
    "else:\n",
    "    print(\"El número debe ser mayor que 1.\")"
   ]
  }
 ],
 "metadata": {
  "kernelspec": {
   "display_name": "Python 3",
   "language": "python",
   "name": "python3"
  },
  "language_info": {
   "codemirror_mode": {
    "name": "ipython",
    "version": 3
   },
   "file_extension": ".py",
   "mimetype": "text/x-python",
   "name": "python",
   "nbconvert_exporter": "python",
   "pygments_lexer": "ipython3",
   "version": "3.13.4"
  }
 },
 "nbformat": 4,
 "nbformat_minor": 5
}
