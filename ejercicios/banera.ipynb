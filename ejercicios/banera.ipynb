{
 "cells": [
  {
   "cell_type": "markdown",
   "id": "31787e6e",
   "metadata": {},
   "source": [
    "* Imagine que tiene una banera cuya capacidad es de 500lts\n",
    "* puede llenar a un ritmo de 200 lts por hora\n",
    "* pero tenga en cuenta que al llegar a su capacidad maxima el agua se desborda\n",
    "ahora quieres ingresar a la piscina sin que se deborde el agua\n",
    "* suponga que usted ocupa uin volumen de 120 lts\n",
    "* para conocer si luego de 2 horas"
   ]
  },
  {
   "cell_type": "code",
   "execution_count": 4,
   "id": "103f0b38",
   "metadata": {},
   "outputs": [
    {
     "name": "stdout",
     "output_type": "stream",
     "text": [
      "La banera no se ha rebosado, puede ingresar\n"
     ]
    }
   ],
   "source": [
    "#Declaracion de variables\n",
    "\n",
    "capacidad_maxima = 500\n",
    "llenado_hora = 200 \n",
    "volumen_persona = 120\n",
    "horas_llenado = 1\n",
    "\n",
    "if(llenado_hora * horas_llenado) > capacidad_maxima:\n",
    "    print('la banera esta rebosada con el tiempo de llenado')\n",
    "elif ((llenado_hora * horas_llenado) + volumen_persona) > capacidad_maxima:\n",
    "    print('la banera se ha rebosado con el tiempo de llenado y el ingreso de la persona')\n",
    "elif((llenado_hora * horas_llenado) + volumen_persona) == capacidad_maxima:\n",
    "    print('la banera esta en su capacidad maxima')\n",
    "elif((llenado_hora * horas_llenado) + volumen_persona) < capacidad_maxima:\n",
    "    print('La banera no se ha rebosado, puede ingresar')\n"
   ]
  }
 ],
 "metadata": {
  "kernelspec": {
   "display_name": "Python 3",
   "language": "python",
   "name": "python3"
  },
  "language_info": {
   "codemirror_mode": {
    "name": "ipython",
    "version": 3
   },
   "file_extension": ".py",
   "mimetype": "text/x-python",
   "name": "python",
   "nbconvert_exporter": "python",
   "pygments_lexer": "ipython3",
   "version": "3.13.4"
  }
 },
 "nbformat": 4,
 "nbformat_minor": 5
}
