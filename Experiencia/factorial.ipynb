{
 "cells": [
  {
   "cell_type": "code",
   "execution_count": 1,
   "id": "85f3ec6c",
   "metadata": {},
   "outputs": [
    {
     "name": "stdout",
     "output_type": "stream",
     "text": [
      "0! (recursivo) = 1 | (iterativo) = 1\n",
      "1! (recursivo) = 1 | (iterativo) = 1\n",
      "2! (recursivo) = 2 | (iterativo) = 2\n",
      "3! (recursivo) = 6 | (iterativo) = 6\n",
      "4! (recursivo) = 24 | (iterativo) = 24\n",
      "5! (recursivo) = 120 | (iterativo) = 120\n",
      "6! (recursivo) = 720 | (iterativo) = 720\n",
      "7! (recursivo) = 5040 | (iterativo) = 5040\n",
      "8! (recursivo) = 40320 | (iterativo) = 40320\n",
      "9! (recursivo) = 362880 | (iterativo) = 362880\n",
      "10! (recursivo) = 3628800 | (iterativo) = 3628800\n"
     ]
    }
   ],
   "source": [
    "# De  manera recursiva\n",
    "def factorial_recursivo(n):\n",
    "    if n == 0 or n == 1:\n",
    "        return 1\n",
    "    else:\n",
    "        return n * factorial_recursivo(n - 1)\n",
    "\n",
    "\n",
    "# de manera no recursiva\n",
    "def factorial_iterativo(n):\n",
    "    resultado = 1\n",
    "    for i in range(2, n + 1):\n",
    "        resultado *= i\n",
    "    return resultado\n",
    "\n",
    "for i in range(0, 11):\n",
    "    print(f\"{i}! (recursivo) = {factorial_recursivo(i)} | (iterativo) = {factorial_iterativo(i)}\")\n"
   ]
  }
 ],
 "metadata": {
  "kernelspec": {
   "display_name": "Python 3",
   "language": "python",
   "name": "python3"
  },
  "language_info": {
   "codemirror_mode": {
    "name": "ipython",
    "version": 3
   },
   "file_extension": ".py",
   "mimetype": "text/x-python",
   "name": "python",
   "nbconvert_exporter": "python",
   "pygments_lexer": "ipython3",
   "version": "3.13.4"
  }
 },
 "nbformat": 4,
 "nbformat_minor": 5
}
